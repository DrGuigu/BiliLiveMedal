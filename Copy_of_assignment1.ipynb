{
  "nbformat": 4,
  "nbformat_minor": 0,
  "metadata": {
    "colab": {
      "provenance": [],
      "authorship_tag": "ABX9TyNBy8aDPzFvYcX+ZqvG36Kq",
      "include_colab_link": true
    },
    "kernelspec": {
      "name": "python3",
      "display_name": "Python 3"
    },
    "language_info": {
      "name": "python"
    }
  },
  "cells": [
    {
      "cell_type": "markdown",
      "metadata": {
        "id": "view-in-github",
        "colab_type": "text"
      },
      "source": [
        "<a href=\"https://colab.research.google.com/github/DrGuigu/BiliLiveMedal/blob/master/Copy_of_assignment1.ipynb\" target=\"_parent\"><img src=\"https://colab.research.google.com/assets/colab-badge.svg\" alt=\"Open In Colab\"/></a>"
      ]
    },
    {
      "cell_type": "markdown",
      "source": [
        "q1, Jax's numbers"
      ],
      "metadata": {
        "id": "DcB-XI8YXx9v"
      }
    },
    {
      "cell_type": "code",
      "execution_count": 5,
      "metadata": {
        "id": "MVL_TLjYXwyW",
        "colab": {
          "base_uri": "https://localhost:8080/"
        },
        "outputId": "581ec9d0-0962-49db-fe0d-d53da0eb0aa5"
      },
      "outputs": [
        {
          "output_type": "stream",
          "name": "stdout",
          "text": [
            "0.001882791519165039\n"
          ]
        }
      ],
      "source": [
        "\n",
        "\n",
        "import math\n",
        "f = open('q1_in.txt','r')\n",
        "n = int(f.readline())\n",
        "v = f.readline().split()\n",
        "k = int(f.readline())\n",
        "f.close()\n",
        "V = []\n",
        "for i in range(n):\n",
        "  number = float(v[i])\n",
        "  V.append(number)\n",
        "sum = 0\n",
        "max = 0\n",
        "for j in range(k+1):\n",
        "  s_dequeue = math.fsum(V[0:j])\n",
        "  s_pop = math.fsum(V[n-k+j:n])\n",
        "  sum = s_dequeue + s_pop\n",
        "  if sum > max:\n",
        "    max = sum\n",
        "    a = str(j)\n",
        "    b = str(k - j)\n",
        "o = open('q1_out.txt','w')\n",
        "o.write(a + '\\n')\n",
        "o.write(b + '\\n')\n",
        "o.close()\n"
      ]
    },
    {
      "cell_type": "markdown",
      "source": [
        "q2, print queues\n"
      ],
      "metadata": {
        "id": "52cUaODXmXNh"
      }
    },
    {
      "cell_type": "code",
      "source": [
        "\n",
        "#create a class of priority queue\n",
        "from collections import deque\n",
        "\n",
        "class PQ():\n",
        "    def __init__(self):\n",
        "        self.storage = [deque(),deque(),deque()]\n",
        "\n",
        "    def enqueue(self, element, priority):\n",
        "        self.storage[priority].appendleft(element)\n",
        "\n",
        "    def dequeue(self):\n",
        "        if len(self.storage[2]) > 0:\n",
        "            return self.storage[2].pop()\n",
        "        elif len(self.storage[1]) > 0:\n",
        "            return self.storage[1].pop()\n",
        "        elif len(self.storage[0]) > 0:\n",
        "            return self.storage[0].pop()\n",
        "        else:\n",
        "            raise Exception(\"PQ is empty\")\n",
        "\n",
        "f = open(\"q2_in.txt\",'r')\n",
        "N = int(f.readline())\n",
        "p = int(f.readline())\n",
        "q = int(f.readline())\n",
        "str_jobs = []\n",
        "for i in range(N):\n",
        "  n = f.readline()\n",
        "  str_jobs.append(n)\n",
        "f.close()\n",
        "print_queue = PQ()\n",
        "o = open('q2_out.txt','w')\n",
        "for j in str_jobs[0:N]:\n",
        "  op = j[0]\n",
        "  if(op == '1'):\n",
        "    elems = j.split()\n",
        "    level = int(elems[1][1])\n",
        "    print_queue.enqueue([elems[2]], 3 - level)\n",
        "  if(op == '2'):\n",
        "    printjob = print_queue.dequeue()[0]\n",
        "    o = open('q2_out.txt','a')\n",
        "    o.write(printjob + '\\n')\n",
        "    o.close()\n",
        "\n"
      ],
      "metadata": {
        "id": "n3Fg9dIYekqK",
        "colab": {
          "base_uri": "https://localhost:8080/"
        },
        "outputId": "1c261e1d-38f0-4796-b44d-514a35faf628"
      },
      "execution_count": 3,
      "outputs": [
        {
          "output_type": "stream",
          "name": "stdout",
          "text": [
            "0.0019626617431640625\n"
          ]
        }
      ]
    },
    {
      "cell_type": "markdown",
      "source": [
        "q3, normal polish notation"
      ],
      "metadata": {
        "id": "D-Chu3-UoPEA"
      }
    },
    {
      "cell_type": "code",
      "source": [
        "\n",
        "def operation(op1, c, op2):\n",
        "    if c == '+':\n",
        "        return op1 + op2\n",
        "    if c == '-':\n",
        "        return op1 - op2\n",
        "    if c == '*':\n",
        "        return op1 * op2\n",
        "    if c == '/':\n",
        "        return op1 / op2\n",
        "    return 0\n",
        "def calc_npn(exp):\n",
        "    stack = []\n",
        "    for c in exp[::-1]:\n",
        "      if c.isdigit():\n",
        "        stack.append(c)\n",
        "      else:\n",
        "        o2 = int(stack.pop())\n",
        "        o1 = int(stack.pop())\n",
        "        result = operation(o2,c,o1)\n",
        "        stack.append(result)\n",
        "    return stack\n",
        "\n",
        "f = open('q3_in.txt','r')\n",
        "line = f.readline().strip()\n",
        "alist = line.split()\n",
        "ans_stack = calc_npn(alist)\n",
        "s=str(ans_stack.pop())\n",
        "o = open('q3_out.txt','w')\n",
        "o.write(s + '\\n')\n",
        "o.close()\n",
        "\n"
      ],
      "metadata": {
        "id": "PmPqFynwa78j",
        "colab": {
          "base_uri": "https://localhost:8080/"
        },
        "outputId": "925d6ded-9310-42ce-b61d-d2cdc815a807"
      },
      "execution_count": 6,
      "outputs": [
        {
          "output_type": "stream",
          "name": "stdout",
          "text": [
            "0.0013301372528076172\n"
          ]
        }
      ]
    }
  ]
}